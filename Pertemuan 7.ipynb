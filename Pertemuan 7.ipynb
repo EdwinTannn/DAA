{
 "cells": [
  {
   "cell_type": "code",
   "execution_count": 1,
   "id": "035fe6ef",
   "metadata": {},
   "outputs": [],
   "source": [
    "def Sequential_Search(dlist, item):\n",
    "    \n",
    "    pos = 0\n",
    "    found = False\n",
    "    \n",
    "    while pos < len(dlist) and not found:\n",
    "        if dlist[pos] == item:\n",
    "            found = True\n",
    "        else:\n",
    "            pos = pos + 1\n",
    "            \n",
    "    return found, pos"
   ]
  },
  {
   "cell_type": "code",
   "execution_count": 2,
   "id": "31627960",
   "metadata": {},
   "outputs": [
    {
     "name": "stdout",
     "output_type": "stream",
     "text": [
      "(True, 3)\n"
     ]
    }
   ],
   "source": [
    "print(Sequential_Search([11,23,58,31,56,77,43,12,65,19],31))"
   ]
  },
  {
   "cell_type": "code",
   "execution_count": 3,
   "id": "49f74d5d",
   "metadata": {},
   "outputs": [
    {
     "name": "stdout",
     "output_type": "stream",
     "text": [
      "(True, 4)\n"
     ]
    }
   ],
   "source": [
    "print(Sequential_Search(['a', 'b', 'c', 'd', 'e', 'f', 'g', 'h'], 'e'))"
   ]
  },
  {
   "cell_type": "code",
   "execution_count": 4,
   "id": "742f2854",
   "metadata": {},
   "outputs": [
    {
     "name": "stdout",
     "output_type": "stream",
     "text": [
      "Masukkan bilangan: 4\n",
      "Masukkan pangkat: 2\n",
      "hasil = 16\n"
     ]
    }
   ],
   "source": [
    "bilangan = int(input('Masukkan bilangan: '))\n",
    "pangkat = int(input('Masukkan pangkat: '))\n",
    "\n",
    "def hitung_pangkat(bilangan, pangkat):\n",
    "    if pangkat > 1:\n",
    "        return bilangan * hitung_pangkat(bilangan, pangkat - 1)\n",
    "    \n",
    "    return bilangan\n",
    "\n",
    "hasil = hitung_pangkat(bilangan, pangkat)\n",
    "print(f'hasil = {hasil}')"
   ]
  },
  {
   "cell_type": "code",
   "execution_count": 9,
   "id": "e83f32d2",
   "metadata": {},
   "outputs": [
    {
     "name": "stdout",
     "output_type": "stream",
     "text": [
      "Masukkan nilai n: 4\n",
      "4! = 24\n"
     ]
    }
   ],
   "source": [
    "n = int(input('Masukkan nilai n: '))\n",
    "def hitung_faktorial (n):\n",
    "    if n > 2:\n",
    "        return n * hitung_faktorial(n-1)\n",
    "    \n",
    "    return 2\n",
    "\n",
    "faktorial = hitung_faktorial(n)\n",
    "print(f'{n}! = {faktorial}')"
   ]
  },
  {
   "cell_type": "code",
   "execution_count": 12,
   "id": "7c1b526a",
   "metadata": {},
   "outputs": [
    {
     "name": "stdout",
     "output_type": "stream",
     "text": [
      "4\n"
     ]
    }
   ],
   "source": [
    "def string_match(string, sub_str):\n",
    "    # Brute force string matching\n",
    "    for i in range(len(string)-len(sub_str)+1):\n",
    "     index = i # index point to the 1 three characters to be compared\n",
    "     for j in range(len(sub_str)):\n",
    "      if string[index] == sub_str[j]:\n",
    "        index += 1\n",
    "      else:\n",
    "        break\n",
    "      if index-i == len(sub_str):\n",
    "        return i\n",
    "    return -1\n",
    "    \n",
    "if __name__ == \"__main__\":\n",
    " print(string_match(\"adbcbdc\", \"bdc\"))"
   ]
  },
  {
   "cell_type": "code",
   "execution_count": 20,
   "id": "c316be67",
   "metadata": {},
   "outputs": [
    {
     "name": "stdout",
     "output_type": "stream",
     "text": [
      "4\n"
     ]
    }
   ],
   "source": [
    "if __name__ == \"__main__\":\n",
    " print(string_match(\"123456789\", \"56\"))"
   ]
  },
  {
   "cell_type": "code",
   "execution_count": 3,
   "id": "07e897a6",
   "metadata": {},
   "outputs": [],
   "source": [
    "import random\n",
    "from itertools import permutations\n",
    "alltours = permutations\n",
    "\n",
    "def distance_tour(aTour):\n",
    "    return sum(distance_points(aTour[i - 1], aTour[i])\n",
    "        for i in range(len(aTour)))\n",
    "    \n",
    "aCity = complex\n",
    "\n",
    "def distance_points(first, second):\n",
    "    return abs(first - second)\n",
    "\n",
    "def generate_cities (number_of_cities):\n",
    "    seed=111;width=500;height=300\n",
    "    random.seed(number_of_cities, seed)\n",
    "    return frozenset(aCity(random.randint(1,width), random.randint(1, height))\n",
    "        for c in range(number_of_cities))"
   ]
  },
  {
   "cell_type": "code",
   "execution_count": 4,
   "id": "b2a8d6cb",
   "metadata": {},
   "outputs": [],
   "source": [
    "%matplotlib inline\n",
    "import matplotlib.pyplot as plt\n",
    "\n",
    "def visualize_tour(tour, style='bo-'):\n",
    "    if len(tour) > 1000: plt.figure(figsize=(15, 10))\n",
    "    start = tour[0:1]\n",
    "    visualize_segment(tour + start, style)\n",
    "    visualize_segment(start, 'rD')\n",
    "def visualize_segment(segment, style='bo-'):\n",
    "        plt.plot([X(c) for c in segment], [Y(c) for c in segment], style, clip_on=False)\n",
    "        plt.axis('scaled')\n",
    "        plt.axis('off')\n",
    "        \n",
    "def X(city): \"X axis\"; return city.real\n",
    "def Y(city): \"Y axis\"; return city.imag"
   ]
  },
  {
   "cell_type": "code",
   "execution_count": 5,
   "id": "496bfaa3",
   "metadata": {},
   "outputs": [],
   "source": [
    "from time import process_time\n",
    "from collections import Counter\n",
    "def tsp(algorithm, cities):\n",
    "    t0 = process_time()\n",
    "    tour = algorithm(cities)\n",
    "    t1 = process_time()\n",
    "    assert Counter(tour) == Counter(cities)\n",
    "    visualize_tour(tour)\n",
    "    print(\"{}:{} cities => tour length {:.0f}(in {:.3f} sec)\".format(name(algorithm), len(tour), distance_tour(tour), t1-t0))\n",
    "    \n",
    "def name(algorithm): return algorithm.__name__.replace('_tsp','')"
   ]
  },
  {
   "cell_type": "code",
   "execution_count": 6,
   "id": "2b5b108c",
   "metadata": {},
   "outputs": [],
   "source": [
    "def brute_force(cities):\n",
    "    \"Generate all possible tours of the cities and choose the shortest tour\"\n",
    "    return shortest_tour(alltours(cities))\n",
    "def shortest_tour(tours): return min(tours, key=distance_tour)"
   ]
  },
  {
   "cell_type": "code",
   "execution_count": 7,
   "id": "ae41b52d",
   "metadata": {},
   "outputs": [
    {
     "name": "stdout",
     "output_type": "stream",
     "text": [
      "brute_force:10 cities => tour length 1206(in 13.594 sec)\n"
     ]
    },
    {
     "data": {
      "image/png": "[encoded data removed]",
      "text/plain": [
       "<Figure size 432x288 with 1 Axes>"
      ]
     },
     "metadata": {
      "needs_background": "light"
     },
     "output_type": "display_data"
    }
   ],
   "source": [
    "tsp(brute_force, generate_cities(10))"
   ]
  },
  {
   "cell_type": "code",
   "execution_count": null,
   "id": "cbcf147f",
   "metadata": {},
   "outputs": [],
   "source": [
    "tsp(brute_force, generate_cities(20))"
   ]
  },
  {
   "cell_type": "code",
   "execution_count": 12,
   "id": "843486d0",
   "metadata": {},
   "outputs": [],
   "source": [
    "#alasan mengapa algoritma greedy lebih cepat dibandingkan dengan brute force\n",
    "\n",
    "# algoritma greedy tidak mempertimbangkan konsekuensi dari pemecahan masalah yang dimaksud  Prinsip utamanya adalah, lakukan selagi bisa, atau lakukan apa yang kamu bisa sekarang. Algoritma greedy tidak mempertimbangkan, namun langsung bertindak, sesuai dengan pemikiran logis yang muncul, tanpa memikirkan konsekuensi atau dampak dari pemecahan masalah yang sedang dihadapi.\n",
    "\n",
    "# sedangkan algoritma brute force  membutuhkan kumpulan banyak opsi terlebih dahulu sebulu dieksekusi. Hal ini membuat pertimbangan dalam memilih opsi akan menjadi lebih lambat.Dengna mempertimbangan banyak opsi, metode algoritma brute force mampu untuk menyaring satu dari sekian banyak solusi atau opsi yang ditawarkan,sehingga proses pemecahan masalah yang dilakukan akan menjadi lebih baik dan juga lebih optimal. Hampir semua masalah yang dipecahkan dengan menggunakan metode algoritma brute force ini berjalan dengan baik."
   ]
  },
  {
   "cell_type": "code",
   "execution_count": null,
   "id": "1d390340",
   "metadata": {},
   "outputs": [],
   "source": []
  }
 ],
 "metadata": {
  "kernelspec": {
   "display_name": "Python 3",
   "language": "python",
   "name": "python3"
  },
  "language_info": {
   "codemirror_mode": {
    "name": "ipython",
    "version": 3
   },
   "file_extension": ".py",
   "mimetype": "text/x-python",
   "name": "python",
   "nbconvert_exporter": "python",
   "pygments_lexer": "ipython3",
   "version": "3.8.8"
  }
 },
 "nbformat": 4,
 "nbformat_minor": 5
}
