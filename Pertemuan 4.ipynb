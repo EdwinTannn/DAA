{
 "cells": [
  {
   "cell_type": "code",
   "execution_count": 10,
   "id": "6ed0bfa0",
   "metadata": {},
   "outputs": [],
   "source": [
    "#swap function\n",
    "var1 = 1\n",
    "var2 = 2\n",
    "var1,var2 = var1,var2"
   ]
  },
  {
   "cell_type": "code",
   "execution_count": 11,
   "id": "f76f6258",
   "metadata": {},
   "outputs": [
    {
     "name": "stdout",
     "output_type": "stream",
     "text": [
      "1 2\n"
     ]
    }
   ],
   "source": [
    "print(var1,var2)"
   ]
  },
  {
   "cell_type": "code",
   "execution_count": 12,
   "id": "6b9f6c26",
   "metadata": {},
   "outputs": [],
   "source": [
    "#swap function\n",
    "var1 = 1\n",
    "var2 = 2\n",
    "var3 = 3\n",
    "var1,var2,var3 = var3,var1,var2"
   ]
  },
  {
   "cell_type": "code",
   "execution_count": 13,
   "id": "e1165863",
   "metadata": {},
   "outputs": [
    {
     "name": "stdout",
     "output_type": "stream",
     "text": [
      "3 1 2\n"
     ]
    }
   ],
   "source": [
    "print(var1,var2,var3)"
   ]
  },
  {
   "cell_type": "code",
   "execution_count": 15,
   "id": "1081db11",
   "metadata": {},
   "outputs": [],
   "source": [
    "list = [25,21,22,24,23,27,26]\n",
    "\n",
    "#modifikasi sesuai angka favorit"
   ]
  },
  {
   "cell_type": "code",
   "execution_count": 16,
   "id": "d217f7ca",
   "metadata": {},
   "outputs": [
    {
     "name": "stdout",
     "output_type": "stream",
     "text": [
      "0 [25, 21, 22, 24, 23, 27, 26]\n",
      "1 [21, 25, 22, 24, 23, 27, 26]\n",
      "2 [21, 22, 25, 24, 23, 27, 26]\n",
      "3 [21, 22, 24, 25, 23, 27, 26]\n",
      "4 [21, 22, 24, 23, 25, 27, 26]\n",
      "6 [21, 22, 24, 23, 25, 26, 27]\n"
     ]
    }
   ],
   "source": [
    "#proses penukaran bubble sort\n",
    "\n",
    "lastElementIndex = len(list)-1\n",
    "print(0,list)\n",
    "for idx in range(lastElementIndex):\n",
    "    if list[idx]>list[idx+1]:\n",
    "        list[idx],list[idx+1]=list[idx+1],list[idx]\n",
    "        print(idx+1,list)"
   ]
  },
  {
   "cell_type": "code",
   "execution_count": 17,
   "id": "0d5afc97",
   "metadata": {},
   "outputs": [
    {
     "data": {
      "text/plain": [
       "[21, 22, 24, 23, 25, 26, 27]"
      ]
     },
     "execution_count": 17,
     "metadata": {},
     "output_type": "execute_result"
    }
   ],
   "source": [
    "list"
   ]
  },
  {
   "cell_type": "code",
   "execution_count": 18,
   "id": "c1defbde",
   "metadata": {},
   "outputs": [],
   "source": [
    "def BubbleSort(list):\n",
    "    #Exchange the elements to arrange in order\n",
    "    lastElementIndex = len(list)-1\n",
    "    for passNo in range(lastElementIndex,0,-1):\n",
    "        for idx in range(passNo):\n",
    "            if list[idx]>list[idx+1]:\n",
    "                list[idx],list[idx+1]=list[idx+1],list[idx]\n",
    "    return list"
   ]
  },
  {
   "cell_type": "code",
   "execution_count": 19,
   "id": "11eda1ff",
   "metadata": {},
   "outputs": [],
   "source": [
    "#masukkan angka urutan lain\n",
    "\n",
    "list = [25,21,22,24,23,27,26]"
   ]
  },
  {
   "cell_type": "code",
   "execution_count": 20,
   "id": "8477c941",
   "metadata": {},
   "outputs": [
    {
     "data": {
      "text/plain": [
       "[21, 22, 23, 24, 25, 26, 27]"
      ]
     },
     "execution_count": 20,
     "metadata": {},
     "output_type": "execute_result"
    }
   ],
   "source": [
    "BubbleSort(list)"
   ]
  },
  {
   "cell_type": "code",
   "execution_count": 21,
   "id": "f6d4c515",
   "metadata": {},
   "outputs": [
    {
     "data": {
      "text/plain": [
       "[21, 22, 23, 24, 25, 26, 27]"
      ]
     },
     "execution_count": 21,
     "metadata": {},
     "output_type": "execute_result"
    }
   ],
   "source": [
    "list"
   ]
  },
  {
   "cell_type": "code",
   "execution_count": 23,
   "id": "17e93696",
   "metadata": {},
   "outputs": [
    {
     "data": {
      "text/plain": [
       "[10, 20, 30, 40, 60, 90, 100]"
      ]
     },
     "execution_count": 23,
     "metadata": {},
     "output_type": "execute_result"
    }
   ],
   "source": [
    "list = [100,20,60,90,40,30,10]\n",
    "BubbleSort(list)"
   ]
  },
  {
   "cell_type": "code",
   "execution_count": 24,
   "id": "b0c3d866",
   "metadata": {},
   "outputs": [],
   "source": [
    "def InsertionSort(list):\n",
    "    for i in range(1, len(list)):\n",
    "        j = i - 1\n",
    "        next = list[i]\n",
    "#compare the current element with next one\n",
    "\n",
    "        while (list[j] > next) and (j >= 0):\n",
    "            list[j+1] = list[j]\n",
    "            j=j-1\n",
    "        list[j+1] = next\n",
    "    return list"
   ]
  },
  {
   "cell_type": "code",
   "execution_count": 25,
   "id": "09ad5618",
   "metadata": {},
   "outputs": [],
   "source": [
    "#masukkan angka dengan urutan lainnya\n",
    "\n",
    "list = [35,31,32,34,33,37,36]"
   ]
  },
  {
   "cell_type": "code",
   "execution_count": 26,
   "id": "2ca16cbe",
   "metadata": {},
   "outputs": [
    {
     "data": {
      "text/plain": [
       "[35, 31, 32, 34, 33, 37, 36]"
      ]
     },
     "execution_count": 26,
     "metadata": {},
     "output_type": "execute_result"
    }
   ],
   "source": [
    "list"
   ]
  },
  {
   "cell_type": "code",
   "execution_count": 27,
   "id": "54aa7b24",
   "metadata": {},
   "outputs": [
    {
     "data": {
      "text/plain": [
       "[31, 32, 33, 34, 35, 36, 37]"
      ]
     },
     "execution_count": 27,
     "metadata": {},
     "output_type": "execute_result"
    }
   ],
   "source": [
    "InsertionSort(list)"
   ]
  },
  {
   "cell_type": "code",
   "execution_count": 28,
   "id": "e21b94df",
   "metadata": {},
   "outputs": [
    {
     "data": {
      "text/plain": [
       "[31, 32, 33, 34, 35, 36, 37]"
      ]
     },
     "execution_count": 28,
     "metadata": {},
     "output_type": "execute_result"
    }
   ],
   "source": [
    "list"
   ]
  },
  {
   "cell_type": "code",
   "execution_count": 31,
   "id": "92379385",
   "metadata": {},
   "outputs": [],
   "source": [
    "list = [89,12,57,16,25,11,75]"
   ]
  },
  {
   "cell_type": "code",
   "execution_count": 32,
   "id": "aed0a32d",
   "metadata": {},
   "outputs": [
    {
     "data": {
      "text/plain": [
       "[11, 12, 16, 25, 57, 75, 89]"
      ]
     },
     "execution_count": 32,
     "metadata": {},
     "output_type": "execute_result"
    }
   ],
   "source": [
    "InsertionSort(list)"
   ]
  },
  {
   "cell_type": "code",
   "execution_count": 34,
   "id": "5157c94b",
   "metadata": {},
   "outputs": [],
   "source": [
    "def SelectionSort(list):\n",
    "    for fill_slot in range(len(list) -1, 0, -1):\n",
    "        max_index = 0\n",
    "        for location in range(1, fill_slot + 1):\n",
    "            if list[location] > list[max_index]:\n",
    "                max_index = location\n",
    "        list[fill_slot],list[max_index] = list[max_index],list[fill_slot]\n",
    "    return list"
   ]
  },
  {
   "cell_type": "code",
   "execution_count": 35,
   "id": "30e9bcc4",
   "metadata": {},
   "outputs": [
    {
     "data": {
      "text/plain": [
       "[15, 19, 25, 34, 44, 70]"
      ]
     },
     "execution_count": 35,
     "metadata": {},
     "output_type": "execute_result"
    }
   ],
   "source": [
    "list = [70,15,25,19,34,44]\n",
    "SelectionSort(list)"
   ]
  },
  {
   "cell_type": "code",
   "execution_count": 36,
   "id": "0d3f458b",
   "metadata": {},
   "outputs": [
    {
     "data": {
      "text/plain": [
       "[15, 19, 25, 34, 44, 70]"
      ]
     },
     "execution_count": 36,
     "metadata": {},
     "output_type": "execute_result"
    }
   ],
   "source": [
    "list"
   ]
  },
  {
   "cell_type": "code",
   "execution_count": 37,
   "id": "84cd77d0",
   "metadata": {},
   "outputs": [
    {
     "data": {
      "text/plain": [
       "[12, 16, 25, 57, 89]"
      ]
     },
     "execution_count": 37,
     "metadata": {},
     "output_type": "execute_result"
    }
   ],
   "source": [
    "list = [89,12,57,16,25]\n",
    "SelectionSort(list)"
   ]
  },
  {
   "cell_type": "code",
   "execution_count": 38,
   "id": "772b3736",
   "metadata": {},
   "outputs": [],
   "source": [
    "def LinearSearch(list, item):\n",
    "    index = 0\n",
    "    found = False\n",
    "    \n",
    "#match the value with each data element\n",
    "    while index < len(list) and found is False:\n",
    "        if list[index] == item:\n",
    "            found = True\n",
    "        else:\n",
    "            index = index + 1\n",
    "    return found"
   ]
  },
  {
   "cell_type": "code",
   "execution_count": 39,
   "id": "13a1dbd9",
   "metadata": {},
   "outputs": [
    {
     "name": "stdout",
     "output_type": "stream",
     "text": [
      "True\n",
      "False\n"
     ]
    }
   ],
   "source": [
    "list = [12,33,11,99,22,55,90]\n",
    "print(LinearSearch(list,12))\n",
    "print(LinearSearch(list,91))"
   ]
  },
  {
   "cell_type": "code",
   "execution_count": 45,
   "id": "00d0552a",
   "metadata": {},
   "outputs": [
    {
     "name": "stdout",
     "output_type": "stream",
     "text": [
      "True\n"
     ]
    }
   ],
   "source": [
    "list = [\"y\",\"u\",\"i\",\"w\",\"o\",\"a\",\"q\",\"u\",\"j\",\"p\"]\n",
    "print(LinearSearch(list,\"a\"))"
   ]
  },
  {
   "cell_type": "code",
   "execution_count": 46,
   "id": "1b22fb6b",
   "metadata": {},
   "outputs": [],
   "source": [
    "def BinarySearch(list, item):\n",
    "    first = 0\n",
    "    last = len(list)-1\n",
    "    found = False\n",
    "    \n",
    "    while first<=last and not found:\n",
    "        midpoint = (first + last)//2\n",
    "        if list[midpoint] == item:\n",
    "            found = True\n",
    "        else:\n",
    "            if item < list[midpoint]:\n",
    "                last = midpoint-1\n",
    "            else:\n",
    "                first = midpoint+1\n",
    "    return found"
   ]
  },
  {
   "cell_type": "code",
   "execution_count": 47,
   "id": "e7224997",
   "metadata": {},
   "outputs": [
    {
     "name": "stdout",
     "output_type": "stream",
     "text": [
      "True\n",
      "False\n"
     ]
    }
   ],
   "source": [
    "list = [12,33,11,99,22,55,90]\n",
    "sorted_list = BubbleSort(list)\n",
    "print(BinarySearch(list,12))\n",
    "print(BinarySearch(list,91))"
   ]
  },
  {
   "cell_type": "code",
   "execution_count": 48,
   "id": "4a82e00e",
   "metadata": {},
   "outputs": [
    {
     "data": {
      "text/plain": [
       "[11, 12, 22, 33, 55, 90, 99]"
      ]
     },
     "execution_count": 48,
     "metadata": {},
     "output_type": "execute_result"
    }
   ],
   "source": [
    "list"
   ]
  },
  {
   "cell_type": "code",
   "execution_count": 49,
   "id": "f070ef91",
   "metadata": {},
   "outputs": [
    {
     "name": "stdout",
     "output_type": "stream",
     "text": [
      "True\n"
     ]
    }
   ],
   "source": [
    "list = [\"y\",\"u\",\"i\",\"w\",\"o\",\"a\",\"q\",\"u\",\"j\",\"p\"]\n",
    "print(BinarySearch(list,\"q\"))"
   ]
  },
  {
   "cell_type": "code",
   "execution_count": 69,
   "id": "9e82525a",
   "metadata": {},
   "outputs": [],
   "source": [
    "def IntPolSearch(list,x):\n",
    "    idx0 = 0\n",
    "    idxn = (len(list)-1)\n",
    "    found = False\n",
    "    while idx0 <= idxn and x >= list[idx0] and x <= list[idxn]:\n",
    "        \n",
    "#find the mid point\n",
    "        mid = idx0+int(((float(idxn - idx0) / (list[idxn] - list[idx0])) * (x - list[idx0])))\n",
    "    \n",
    "#compare the value at mid point with search value\n",
    "        if list[mid] == x:\n",
    "            found = True\n",
    "            return found\n",
    "    \n",
    "        if list[mid] < x:\n",
    "            idx0 = mid + 1\n",
    "    return found"
   ]
  },
  {
   "cell_type": "code",
   "execution_count": 70,
   "id": "e0d99e9e",
   "metadata": {},
   "outputs": [
    {
     "name": "stdout",
     "output_type": "stream",
     "text": [
      "True\n",
      "False\n"
     ]
    }
   ],
   "source": [
    "list = [12,33,11,99,22,55,90]\n",
    "sorted_list = BubbleSort(list)\n",
    "print(IntPolSearch(list, 12))\n",
    "print(IntPolSearch(list, 91))"
   ]
  },
  {
   "cell_type": "code",
   "execution_count": 71,
   "id": "fb8ebc1d",
   "metadata": {},
   "outputs": [
    {
     "name": "stdout",
     "output_type": "stream",
     "text": [
      "True\n"
     ]
    }
   ],
   "source": [
    "list = [20,200,7,100,2]\n",
    "sorted_list = BubbleSort(list)\n",
    "print(IntPolSearch(list,200))"
   ]
  },
  {
   "cell_type": "code",
   "execution_count": null,
   "id": "ba15b7cb",
   "metadata": {},
   "outputs": [],
   "source": []
  }
 ],
 "metadata": {
  "kernelspec": {
   "display_name": "Python 3",
   "language": "python",
   "name": "python3"
  },
  "language_info": {
   "codemirror_mode": {
    "name": "ipython",
    "version": 3
   },
   "file_extension": ".py",
   "mimetype": "text/x-python",
   "name": "python",
   "nbconvert_exporter": "python",
   "pygments_lexer": "ipython3",
   "version": "3.8.8"
  }
 },
 "nbformat": 4,
 "nbformat_minor": 5
}
