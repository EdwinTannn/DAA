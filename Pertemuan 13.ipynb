{
 "cells": [
  {
   "cell_type": "code",
   "execution_count": 1,
   "id": "cbdf4f40",
   "metadata": {},
   "outputs": [],
   "source": [
    "def bfs(graph, start):\n",
    "    visited = []\n",
    "    queue = [start]\n",
    "    \n",
    "    while queue:\n",
    "        node = queue.pop(0)\n",
    "        if node not in visited:\n",
    "            visited.append(node)\n",
    "            neighbours = graph[node]\n",
    "            for neighbour in neighbours:\n",
    "                queue.append(neighbour)\n",
    "    return visited"
   ]
  },
  {
   "cell_type": "code",
   "execution_count": 2,
   "id": "db941353",
   "metadata": {},
   "outputs": [],
   "source": [
    "graph = { 'Amin' : { 'Wasim', 'Nick', 'Mike'},\n",
    "          'Wasim' : {'Imran', 'Amin'}, \n",
    "          'Imran' : {'Wasim', 'Faras'},\n",
    "          'Faras' : {'Imran'},\n",
    "          'Mike' : {'Amin'},\n",
    "          'Nick' : {'Amin'}}"
   ]
  },
  {
   "cell_type": "code",
   "execution_count": 3,
   "id": "3243cbb2",
   "metadata": {},
   "outputs": [
    {
     "data": {
      "text/plain": [
       "['Amin', 'Mike', 'Nick', 'Wasim', 'Imran', 'Faras']"
      ]
     },
     "execution_count": 3,
     "metadata": {},
     "output_type": "execute_result"
    }
   ],
   "source": [
    "bfs(graph, 'Amin')"
   ]
  },
  {
   "cell_type": "code",
   "execution_count": 5,
   "id": "960659a6",
   "metadata": {},
   "outputs": [
    {
     "data": {
      "text/plain": [
       "['Amin', 'Mike', 'Nick', 'Wasim', 'Imran', 'Faras']"
      ]
     },
     "execution_count": 5,
     "metadata": {},
     "output_type": "execute_result"
    }
   ],
   "source": [
    "# O amin ----------------\n",
    "# |            |         |\n",
    "# O wasim      O nick    O mike\n",
    "# |\n",
    "# O imran\n",
    "# |\n",
    "# O faras\n",
    "\n",
    "bfs(graph, 'Amin')"
   ]
  },
  {
   "cell_type": "code",
   "execution_count": 7,
   "id": "f10435a0",
   "metadata": {},
   "outputs": [
    {
     "data": {
      "text/plain": [
       "['Wasim', 'Amin', 'Imran', 'Mike', 'Nick', 'Faras']"
      ]
     },
     "execution_count": 7,
     "metadata": {},
     "output_type": "execute_result"
    }
   ],
   "source": [
    "# O wasim -----\n",
    "# |            |         \n",
    "# O imran      O amin ----   \n",
    "# |            |          |\n",
    "# O faras      O nick     O mike\n",
    "\n",
    "\n",
    "bfs(graph, 'Wasim')"
   ]
  },
  {
   "cell_type": "code",
   "execution_count": 8,
   "id": "202280ba",
   "metadata": {},
   "outputs": [
    {
     "data": {
      "text/plain": [
       "['Faras', 'Imran', 'Wasim', 'Amin', 'Mike', 'Nick']"
      ]
     },
     "execution_count": 8,
     "metadata": {},
     "output_type": "execute_result"
    }
   ],
   "source": [
    "# O faras\n",
    "# |                    \n",
    "# O imran      \n",
    "# |                      \n",
    "# O wasim      O nick     O mike\n",
    "# |            |          |\n",
    "# O amin ------------------\n",
    "\n",
    "bfs(graph, 'Faras')"
   ]
  },
  {
   "cell_type": "code",
   "execution_count": 30,
   "id": "ada5ac84",
   "metadata": {},
   "outputs": [],
   "source": [
    "graph = {'Rektor' : {'Warek 1', 'Warek 2'},\n",
    "         'Warek 1' : {'Rektor'},\n",
    "         'Warek 2' : {'Rektor', 'Kaprodi 1', 'Kaprodi 2', 'Kaprodi 3'},\n",
    "         'Kaprodi 1' : {'Warek 2', 'Dosen 1', 'Dosen 2', 'Dosen 3'}, \n",
    "         'Kaprodi 2' : {'Warek 2', 'Dosen 4', 'Dosen 5'},\n",
    "         'Kaprodi 3' : {'Warek 2', 'Dosen 6', 'Dosen 7'},\n",
    "         'Dosen 1' : {'Kaprodi 1', 'Dosen 2', 'Dosen 3'},\n",
    "         'Dosen 4' : {'Kaprodi 2', 'Dosen 5'},\n",
    "         'Dosen 6' : {'Kaprodi 3', 'Dosen 7'},\n",
    "         'Dosen 2' : {'Kaprodi 1', 'Dosen 1', 'Dosen 3'},\n",
    "         'Dosen 5' : {'Kaprodi 2', 'Dosen 4'},\n",
    "         'Dosen 7' : {'Kaprodi 3', 'Dosen 6'},\n",
    "         'Dosen 3' : {'Kaprodi 1', 'Dosen 1', 'Dosen 2'}}"
   ]
  },
  {
   "cell_type": "code",
   "execution_count": 31,
   "id": "e01cff8a",
   "metadata": {},
   "outputs": [
    {
     "data": {
      "text/plain": [
       "['Rektor',\n",
       " 'Warek 1',\n",
       " 'Warek 2',\n",
       " 'Kaprodi 2',\n",
       " 'Kaprodi 3',\n",
       " 'Kaprodi 1',\n",
       " 'Dosen 4',\n",
       " 'Dosen 5',\n",
       " 'Dosen 6',\n",
       " 'Dosen 7',\n",
       " 'Dosen 1',\n",
       " 'Dosen 2',\n",
       " 'Dosen 3']"
      ]
     },
     "execution_count": 31,
     "metadata": {},
     "output_type": "execute_result"
    }
   ],
   "source": [
    "bfs(graph, 'Rektor')"
   ]
  },
  {
   "cell_type": "code",
   "execution_count": 24,
   "id": "482b81e3",
   "metadata": {},
   "outputs": [],
   "source": [
    "def dfs(graph, start, visited=None):\n",
    "    if visited is None:\n",
    "        visited = set()\n",
    "    visited.add(start)\n",
    "    print(start)\n",
    "    for next in graph[start] - visited:\n",
    "        dfs(graph, next, visited)\n",
    "    return visited"
   ]
  },
  {
   "cell_type": "code",
   "execution_count": 25,
   "id": "52e6dc65",
   "metadata": {},
   "outputs": [],
   "source": [
    "graph = { 'Amin' : { 'Wasim', 'Nick', 'Mike'},\n",
    "          'Wasim' : {'Imran', 'Amin'}, \n",
    "          'Imran' : {'Wasim', 'Faras'},\n",
    "          'Faras' : {'Imran'},\n",
    "          'Mike' : {'Amin'},\n",
    "          'Nick' : {'Amin'}}"
   ]
  },
  {
   "cell_type": "code",
   "execution_count": 26,
   "id": "3cb57196",
   "metadata": {},
   "outputs": [
    {
     "name": "stdout",
     "output_type": "stream",
     "text": [
      "Amin\n",
      "Mike\n",
      "Nick\n",
      "Wasim\n",
      "Imran\n",
      "Faras\n"
     ]
    },
    {
     "data": {
      "text/plain": [
       "{'Amin', 'Faras', 'Imran', 'Mike', 'Nick', 'Wasim'}"
      ]
     },
     "execution_count": 26,
     "metadata": {},
     "output_type": "execute_result"
    }
   ],
   "source": [
    "# O amin ---------------------\n",
    "# |              |           |\n",
    "# O wasim        O nick      O mike\n",
    "# |\n",
    "# O imran\n",
    "# |\n",
    "# O faras\n",
    "#\n",
    "# turun dari amin ke faras, geser ke nic & mike\n",
    "dfs(graph, 'Amin')"
   ]
  },
  {
   "cell_type": "code",
   "execution_count": 27,
   "id": "0eae369b",
   "metadata": {},
   "outputs": [
    {
     "name": "stdout",
     "output_type": "stream",
     "text": [
      "Wasim\n",
      "Amin\n",
      "Mike\n",
      "Nick\n",
      "Imran\n",
      "Faras\n"
     ]
    },
    {
     "data": {
      "text/plain": [
       "{'Amin', 'Faras', 'Imran', 'Mike', 'Nick', 'Wasim'}"
      ]
     },
     "execution_count": 27,
     "metadata": {},
     "output_type": "execute_result"
    }
   ],
   "source": [
    "# O amin ---------------------\n",
    "# |              |           |\n",
    "# O wasim        O nick      O mike\n",
    "# |\n",
    "# O imran\n",
    "# |\n",
    "# O faras\n",
    "#\n",
    "# turun dari amin ke faras, geser ke nic & mike\n",
    "dfs(graph, 'Wasim')"
   ]
  },
  {
   "cell_type": "code",
   "execution_count": 28,
   "id": "a46ca8e3",
   "metadata": {},
   "outputs": [
    {
     "name": "stdout",
     "output_type": "stream",
     "text": [
      "Faras\n",
      "Imran\n",
      "Wasim\n",
      "Amin\n",
      "Mike\n",
      "Nick\n"
     ]
    },
    {
     "data": {
      "text/plain": [
       "{'Amin', 'Faras', 'Imran', 'Mike', 'Nick', 'Wasim'}"
      ]
     },
     "execution_count": 28,
     "metadata": {},
     "output_type": "execute_result"
    }
   ],
   "source": [
    "# O amin ---------------------\n",
    "# |              |           |\n",
    "# O wasim        O nick      O mike\n",
    "# |\n",
    "# O imran\n",
    "# |\n",
    "# O faras\n",
    "#\n",
    "# turun dari amin ke faras, geser ke nic & mike\n",
    "dfs(graph, 'Faras')"
   ]
  },
  {
   "cell_type": "code",
   "execution_count": 29,
   "id": "9ad699ca",
   "metadata": {},
   "outputs": [
    {
     "name": "stdout",
     "output_type": "stream",
     "text": [
      "Nick\n",
      "Amin\n",
      "Mike\n",
      "Wasim\n",
      "Imran\n",
      "Faras\n"
     ]
    },
    {
     "data": {
      "text/plain": [
       "{'Amin', 'Faras', 'Imran', 'Mike', 'Nick', 'Wasim'}"
      ]
     },
     "execution_count": 29,
     "metadata": {},
     "output_type": "execute_result"
    }
   ],
   "source": [
    "# O amin ---------------------\n",
    "# |              |           |\n",
    "# O wasim        O nick      O mike\n",
    "# |\n",
    "# O imran\n",
    "# |\n",
    "# O faras\n",
    "#\n",
    "# turun dari amin ke faras, geser ke nic & mike\n",
    "dfs(graph, 'Nick')"
   ]
  },
  {
   "cell_type": "code",
   "execution_count": 36,
   "id": "0da05f8f",
   "metadata": {},
   "outputs": [
    {
     "name": "stdout",
     "output_type": "stream",
     "text": [
      "Rektor\n",
      "Warek 1\n",
      "Warek 2\n",
      "Kaprodi 2\n",
      "Dosen 4\n",
      "Dosen 5\n",
      "Dosen 5\n",
      "Kaprodi 3\n",
      "Dosen 7\n",
      "Dosen 6\n",
      "Dosen 6\n",
      "Kaprodi 1\n",
      "Dosen 1\n",
      "Dosen 2\n",
      "Dosen 3\n",
      "Dosen 3\n",
      "Dosen 2\n",
      "Dosen 3\n"
     ]
    },
    {
     "data": {
      "text/plain": [
       "{'Dosen 1',\n",
       " 'Dosen 2',\n",
       " 'Dosen 3',\n",
       " 'Dosen 4',\n",
       " 'Dosen 5',\n",
       " 'Dosen 6',\n",
       " 'Dosen 7',\n",
       " 'Kaprodi 1',\n",
       " 'Kaprodi 2',\n",
       " 'Kaprodi 3',\n",
       " 'Rektor',\n",
       " 'Warek 1',\n",
       " 'Warek 2'}"
      ]
     },
     "execution_count": 36,
     "metadata": {},
     "output_type": "execute_result"
    }
   ],
   "source": [
    "graph = {'Rektor' : {'Warek 1', 'Warek 2'},\n",
    "         'Warek 1' : {'Rektor'},\n",
    "         'Warek 2' : {'Rektor', 'Kaprodi 1', 'Kaprodi 2', 'Kaprodi 3'},\n",
    "         'Kaprodi 1' : {'Warek 2', 'Dosen 1', 'Dosen 2', 'Dosen 3'}, \n",
    "         'Kaprodi 2' : {'Warek 2', 'Dosen 4', 'Dosen 5'},\n",
    "         'Kaprodi 3' : {'Warek 2', 'Dosen 6', 'Dosen 7'},\n",
    "         'Dosen 1' : {'Kaprodi 1', 'Dosen 2', 'Dosen 3'},\n",
    "         'Dosen 4' : {'Kaprodi 2', 'Dosen 5'},\n",
    "         'Dosen 6' : {'Kaprodi 3', 'Dosen 7'},\n",
    "         'Dosen 2' : {'Kaprodi 1', 'Dosen 1', 'Dosen 3'},\n",
    "         'Dosen 5' : {'Kaprodi 2', 'Dosen 4'},\n",
    "         'Dosen 7' : {'Kaprodi 3', 'Dosen 6'},\n",
    "         'Dosen 3' : {'Kaprodi 1', 'Dosen 1', 'Dosen 2'}}\n",
    "\n",
    "dfs(graph, 'Rektor')"
   ]
  },
  {
   "cell_type": "code",
   "execution_count": null,
   "id": "80652bc0",
   "metadata": {},
   "outputs": [],
   "source": []
  }
 ],
 "metadata": {
  "kernelspec": {
   "display_name": "Python 3",
   "language": "python",
   "name": "python3"
  },
  "language_info": {
   "codemirror_mode": {
    "name": "ipython",
    "version": 3
   },
   "file_extension": ".py",
   "mimetype": "text/x-python",
   "name": "python",
   "nbconvert_exporter": "python",
   "pygments_lexer": "ipython3",
   "version": "3.8.8"
  }
 },
 "nbformat": 4,
 "nbformat_minor": 5
}
