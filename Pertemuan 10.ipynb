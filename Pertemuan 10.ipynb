{
 "cells": [
  {
   "cell_type": "code",
   "execution_count": 1,
   "id": "8aa6134b",
   "metadata": {},
   "outputs": [],
   "source": [
    "import pulp"
   ]
  },
  {
   "cell_type": "code",
   "execution_count": 2,
   "id": "7228abab",
   "metadata": {},
   "outputs": [],
   "source": [
    "# Instantiate our problem class\n",
    "model = pulp.LpProblem(\"ProfitMaximissingProblem\", pulp.LpMaximize)"
   ]
  },
  {
   "cell_type": "code",
   "execution_count": 3,
   "id": "b476a02a",
   "metadata": {},
   "outputs": [],
   "source": [
    "A = pulp.LpVariable('A', lowBound=0, cat='Integer')\n",
    "B = pulp.LpVariable('B', lowBound=0, cat='Integer')"
   ]
  },
  {
   "cell_type": "code",
   "execution_count": 4,
   "id": "b9eefc9f",
   "metadata": {},
   "outputs": [],
   "source": [
    "#Objective function\n",
    "model += 5000 * A + 2500 * B, \"Profit\"\n",
    "# Constraints\n",
    "model += 3 * A + 2 * B <= 20\n",
    "model += 4 * A + 3 * B <= 30\n",
    "model += 4 * A + 3 * B <= 44"
   ]
  },
  {
   "cell_type": "code",
   "execution_count": 5,
   "id": "980309d1",
   "metadata": {},
   "outputs": [
    {
     "data": {
      "text/plain": [
       "'Optimal'"
      ]
     },
     "execution_count": 5,
     "metadata": {},
     "output_type": "execute_result"
    }
   ],
   "source": [
    "# Solve our problem\n",
    "model.solve()\n",
    "pulp.LpStatus[model.status]"
   ]
  },
  {
   "cell_type": "code",
   "execution_count": 6,
   "id": "c9845149",
   "metadata": {},
   "outputs": [
    {
     "name": "stdout",
     "output_type": "stream",
     "text": [
      "6.0\n",
      "1.0\n"
     ]
    }
   ],
   "source": [
    "# Print our decision variable values\n",
    "print(A.varValue)\n",
    "print(B.varValue)"
   ]
  },
  {
   "cell_type": "code",
   "execution_count": 7,
   "id": "d7b18fee",
   "metadata": {},
   "outputs": [
    {
     "name": "stdout",
     "output_type": "stream",
     "text": [
      "32500.0\n"
     ]
    }
   ],
   "source": [
    "# Print our objective function value\n",
    "print(pulp.value(model.objective))"
   ]
  },
  {
   "cell_type": "code",
   "execution_count": 20,
   "id": "f0d8504c",
   "metadata": {},
   "outputs": [
    {
     "name": "stdout",
     "output_type": "stream",
     "text": [
      "7.0\n",
      "2.0\n"
     ]
    }
   ],
   "source": [
    "model = pulp.LpProblem(\"ProfitMaximissingProblem\", pulp.LpMaximize)\n",
    "X = pulp.LpVariable('X', lowBound=0, cat='Integer')\n",
    "Y = pulp.LpVariable('Y', lowBound=0, cat='Integer')\n",
    "\n",
    "model += 4 * X + 3 * Y == 34\n",
    "model += 5 * X + 1 * Y == 37\n",
    "\n",
    "model.solve()\n",
    "\n",
    "print(X.varValue)\n",
    "print(Y.varValue)"
   ]
  },
  {
   "cell_type": "code",
   "execution_count": 32,
   "id": "4f68ef57",
   "metadata": {},
   "outputs": [
    {
     "name": "stdout",
     "output_type": "stream",
     "text": [
      "1000.0\n",
      "2000.0\n",
      "14000.0\n"
     ]
    }
   ],
   "source": [
    "model = pulp.LpProblem(\"MencariHargaBukudanPensil\", pulp.LpMaximize)\n",
    "X = pulp.LpVariable('X', lowBound=0, cat='Integer')\n",
    "Y = pulp.LpVariable('Y', lowBound=0, cat='Integer')\n",
    "\n",
    "model += 3 * X + 4 * Y == 11000\n",
    "model += 1 * X + 7 * Y == 15000\n",
    "model += 2 * X + 6 * Y, 'Total'\n",
    "\n",
    "model.solve()\n",
    "\n",
    "print(X.varValue)\n",
    "print(Y.varValue)\n",
    "print(pulp.value(model.objective))"
   ]
  },
  {
   "cell_type": "code",
   "execution_count": 37,
   "id": "91636fb8",
   "metadata": {},
   "outputs": [
    {
     "name": "stdout",
     "output_type": "stream",
     "text": [
      "14.0\n",
      "8.0\n",
      "44.0\n"
     ]
    }
   ],
   "source": [
    "model = pulp.LpProblem(\"MencariKelilingLingkaran\", pulp.LpMaximize)\n",
    "P = pulp.LpVariable('P', lowBound=0, cat='Integer')\n",
    "L = pulp.LpVariable('L', lowBound=0, cat='Integer')\n",
    "\n",
    "model += 2 * P + 2 * L == 44\n",
    "model += 2 * P + 2 * (P-6) == 44\n",
    "model += 2 * P + 2 * L, 'Total'\n",
    "\n",
    "model.solve()\n",
    "\n",
    "print(P.varValue)\n",
    "print(L.varValue)\n",
    "print(pulp.value(model.objective))"
   ]
  },
  {
   "cell_type": "code",
   "execution_count": 38,
   "id": "7ff7b813",
   "metadata": {},
   "outputs": [],
   "source": [
    "# Import required libraries\n",
    "import numpy as np\n",
    "from scipy.optimize import linprog"
   ]
  },
  {
   "cell_type": "code",
   "execution_count": 39,
   "id": "19bd349b",
   "metadata": {},
   "outputs": [],
   "source": [
    "# Set the inequality constraints matrix\n",
    "# Note: the inequality constraints must be in the form of <=\n",
    "A = np.array([[1, 0], [2, 3], [1, 1], [-1, 0], [0, -1]])"
   ]
  },
  {
   "cell_type": "code",
   "execution_count": 40,
   "id": "4d61fb96",
   "metadata": {},
   "outputs": [],
   "source": [
    "b = np.array([16, 19, 8, 0, 0])"
   ]
  },
  {
   "cell_type": "code",
   "execution_count": 41,
   "id": "5ab67ae5",
   "metadata": {},
   "outputs": [],
   "source": [
    "c = np.array([-5, -7])"
   ]
  },
  {
   "cell_type": "code",
   "execution_count": 43,
   "id": "dc17253c",
   "metadata": {},
   "outputs": [],
   "source": [
    "# Solve linear programming problem\n",
    "res = linprog(c, A_ub=A, b_ub=b)"
   ]
  },
  {
   "cell_type": "code",
   "execution_count": 44,
   "id": "deb01bd5",
   "metadata": {},
   "outputs": [
    {
     "name": "stdout",
     "output_type": "stream",
     "text": [
      "Optimal value: 46.0 \n",
      "x values: [5. 3.] \n",
      "Number of iterations performed: 5 \n",
      "Status: Optimization terminated successfully.\n"
     ]
    }
   ],
   "source": [
    "# Print result\n",
    "print('Optimal value:', round(res.fun*-1, ndigits=2),\n",
    "     '\\nx values:', res.x,\n",
    "     '\\nNumber of iterations performed:', res.nit,\n",
    "     '\\nStatus:', res.message)"
   ]
  },
  {
   "cell_type": "code",
   "execution_count": 51,
   "id": "b38d930e",
   "metadata": {},
   "outputs": [
    {
     "name": "stdout",
     "output_type": "stream",
     "text": [
      "Optimal value: 35.0 \n",
      "x values: [7.00000000e+00 4.27537621e-11] \n",
      "Number of iterations performed: 4 \n",
      "Status: Optimization terminated successfully.\n"
     ]
    }
   ],
   "source": [
    "A = np.array([[4, 12], [2, 1], [-1, 0], [0, -1]])\n",
    "b = np.array([28, 21, 0, 0])\n",
    "c = np.array([-5, -7])\n",
    "res = linprog(c, A_ub=A, b_ub=b)\n",
    "\n",
    "print('Optimal value:', round(res.fun*-1, ndigits=2),\n",
    "     '\\nx values:', res.x,\n",
    "     '\\nNumber of iterations performed:', res.nit,\n",
    "     '\\nStatus:', res.message)"
   ]
  },
  {
   "cell_type": "code",
   "execution_count": 55,
   "id": "644d9758",
   "metadata": {},
   "outputs": [
    {
     "name": "stdout",
     "output_type": "stream",
     "text": [
      "Optimal value: 16.0 \n",
      "x values: [11.28137674  4.71862326] \n",
      "Number of iterations performed: 5 \n",
      "Status: Optimization terminated successfully.\n"
     ]
    }
   ],
   "source": [
    "A = np.array([[1, 1], [3, 4], [-1, 0], [0, -1]])\n",
    "b = np.array([16, 55, 0, 0])\n",
    "c = np.array([-1, -1])\n",
    "res = linprog(c, A_ub=A, b_ub=b)\n",
    "\n",
    "print('Optimal value:', round(res.fun*-1, ndigits=2),\n",
    "     '\\nx values:', res.x,\n",
    "     '\\nNumber of iterations performed:', res.nit,\n",
    "     '\\nStatus:', res.message)"
   ]
  },
  {
   "cell_type": "code",
   "execution_count": null,
   "id": "f17194f6",
   "metadata": {},
   "outputs": [],
   "source": []
  }
 ],
 "metadata": {
  "kernelspec": {
   "display_name": "Python 3",
   "language": "python",
   "name": "python3"
  },
  "language_info": {
   "codemirror_mode": {
    "name": "ipython",
    "version": 3
   },
   "file_extension": ".py",
   "mimetype": "text/x-python",
   "name": "python",
   "nbconvert_exporter": "python",
   "pygments_lexer": "ipython3",
   "version": "3.8.8"
  }
 },
 "nbformat": 4,
 "nbformat_minor": 5
}
