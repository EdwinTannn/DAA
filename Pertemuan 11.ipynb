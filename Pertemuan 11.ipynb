{
 "cells": [
  {
   "cell_type": "code",
   "execution_count": 2,
   "id": "2591ff32",
   "metadata": {},
   "outputs": [],
   "source": [
    "# a-----b\n",
    "# |     |\n",
    "# |     |\n",
    "# c-----d-----e"
   ]
  },
  {
   "cell_type": "code",
   "execution_count": 3,
   "id": "385491e6",
   "metadata": {},
   "outputs": [
    {
     "name": "stdout",
     "output_type": "stream",
     "text": [
      "{'a': ['b', 'c'], 'b': ['a', 'd'], 'c': ['a', 'd'], 'd': ['e'], 'e': ['d']}\n"
     ]
    }
   ],
   "source": [
    "# Create the dictionary with graph elements\n",
    "graph = { \"a\" : [\"b\",\"c\"],\n",
    "          \"b\" : [\"a\", \"d\"],\n",
    "          \"c\" : [\"a\", \"d\"],\n",
    "          \"d\" : [\"e\"],\n",
    "          \"e\" : [\"d\"]\n",
    "        }\n",
    "# Print the graph\n",
    "print(graph)"
   ]
  },
  {
   "cell_type": "code",
   "execution_count": 10,
   "id": "3f21dacd",
   "metadata": {},
   "outputs": [
    {
     "name": "stdout",
     "output_type": "stream",
     "text": [
      "{'t': ['u', 'w'], 'u': ['t', 'v'], 'v': ['u', 'x'], 'w': ['t', 'x', 'z'], 'x': ['v', 'w', 's'], 'z': ['w'], 's': ['x']}\n"
     ]
    }
   ],
   "source": [
    "# Latihan\n",
    "# t-----u-----v\n",
    "# |           |\n",
    "# w-----------x\n",
    "# |           |\n",
    "# z           s\n",
    "\n",
    "graph = { \"t\" : [\"u\", \"w\"],\n",
    "          \"u\" : [\"t\", \"v\"],\n",
    "          \"v\" : [\"u\", \"x\"],\n",
    "          \"w\" : [\"t\", \"x\", \"z\"],\n",
    "          \"x\" : [\"v\", \"w\", \"s\"],\n",
    "          \"z\" : [\"w\"],\n",
    "          \"s\" : [\"x\"]\n",
    "        }\n",
    "\n",
    "print(graph)"
   ]
  },
  {
   "cell_type": "code",
   "execution_count": 12,
   "id": "9402359a",
   "metadata": {},
   "outputs": [
    {
     "name": "stdout",
     "output_type": "stream",
     "text": [
      "{'r': ['o', 'l'], 'o': ['r', 'm', 'p'], 'm': ['o', 'n'], 'l': ['r', 'p'], 'p': ['o', 'l', 'n'], 'n': ['m', 'p']}\n"
     ]
    }
   ],
   "source": [
    "# Latihan\n",
    "# r-----o-----m\n",
    "# |     |     |\n",
    "# l-----p-----n\n",
    "\n",
    "graph = { \"r\" : [\"o\", \"l\"],\n",
    "          \"o\" : [\"r\", \"m\", \"p\"],\n",
    "          \"m\" : [\"o\", \"n\"],\n",
    "          \"l\" : [\"r\", \"p\"],\n",
    "          \"p\" : [\"o\", \"l\", \"n\"],\n",
    "          \"n\" : [\"m\", \"p\"]\n",
    "        }\n",
    "\n",
    "print(graph)"
   ]
  },
  {
   "cell_type": "code",
   "execution_count": 5,
   "id": "49a50cd1",
   "metadata": {},
   "outputs": [
    {
     "name": "stdout",
     "output_type": "stream",
     "text": [
      "['a', 'b', 'c', 'd', 'e']\n"
     ]
    }
   ],
   "source": [
    "class graph:\n",
    "    def __init__(self,gdict=None):\n",
    "        if gdict is None:\n",
    "            gdict = []\n",
    "        self.gdict = gdict\n",
    "        \n",
    "# Get the keys of the dictionary\n",
    "    def getVertices(self):\n",
    "        return list(self.gdict.keys())\n",
    "    \n",
    "# Create the dictionary with graph elements\n",
    "graph_elements = { \"a\" : [\"b\",\"c\"],\n",
    "                \"b\" : [\"a\", \"d\"],\n",
    "                \"c\" : [\"a\", \"d\"],\n",
    "                \"d\" : [\"e\"],\n",
    "                \"e\" : [\"d\"]\n",
    "                 }\n",
    "\n",
    "g = graph(graph_elements)\n",
    "print(g.getVertices())"
   ]
  },
  {
   "cell_type": "code",
   "execution_count": 18,
   "id": "ebe213c9",
   "metadata": {},
   "outputs": [
    {
     "name": "stdout",
     "output_type": "stream",
     "text": [
      "['t', 'u', 'v', 'w', 'x', 'z', 's']\n"
     ]
    }
   ],
   "source": [
    "# Latihan\n",
    "class graph:\n",
    "    def __init__(self,gdict=None):\n",
    "        if gdict is None:\n",
    "            gdict = []\n",
    "        self.gdict = gdict\n",
    "        \n",
    "# Get the keys of the dictionary\n",
    "    def getVertices(self):\n",
    "        return list(self.gdict.keys())\n",
    "    \n",
    "# Create the dictionary with graph elements\n",
    "graph_elements = { \"t\" : [\"u\", \"w\"],\n",
    "                   \"u\" : [\"t\", \"v\"],\n",
    "                   \"v\" : [\"u\", \"x\"],\n",
    "                   \"w\" : [\"t\", \"x\", \"z\"],\n",
    "                   \"x\" : [\"v\", \"w\", \"s\"],\n",
    "                   \"z\" : [\"w\"],\n",
    "                   \"s\" : [\"x\"]\n",
    "                 }\n",
    "\n",
    "g = graph(graph_elements)\n",
    "print(g.getVertices())"
   ]
  },
  {
   "cell_type": "code",
   "execution_count": 17,
   "id": "0d8dd820",
   "metadata": {},
   "outputs": [
    {
     "name": "stdout",
     "output_type": "stream",
     "text": [
      "['r', 'o', 'm', 'l', 'p', 'n']\n"
     ]
    }
   ],
   "source": [
    "#Latihan\n",
    "class graph:\n",
    "    def __init__(self,gdict=None):\n",
    "        if gdict is None:\n",
    "            gdict = []\n",
    "        self.gdict = gdict\n",
    "        \n",
    "# Get the keys of the dictionary\n",
    "    def getVertices(self):\n",
    "        return list(self.gdict.keys())\n",
    "    \n",
    "# Create the dictionary with graph elements\n",
    "graph_elements = { \"r\" : [\"o\", \"l\"],\n",
    "                   \"o\" : [\"r\", \"m\", \"p\"],\n",
    "                   \"m\" : [\"o\", \"n\"],\n",
    "                   \"l\" : [\"r\", \"p\"],\n",
    "                   \"p\" : [\"o\", \"l\", \"n\"],\n",
    "                   \"n\" : [\"m\", \"p\"]\n",
    "                 }\n",
    "\n",
    "g = graph(graph_elements)\n",
    "print(g.getVertices())"
   ]
  },
  {
   "cell_type": "code",
   "execution_count": 6,
   "id": "57c5eaf3",
   "metadata": {},
   "outputs": [
    {
     "name": "stdout",
     "output_type": "stream",
     "text": [
      "[{'b', 'a'}, {'c', 'a'}, {'d', 'b'}, {'d', 'c'}, {'d', 'e'}]\n"
     ]
    }
   ],
   "source": [
    "class graph:\n",
    "    def __init__(self,gdict=None):\n",
    "        if gdict is None:\n",
    "            gdict = []\n",
    "        self.gdict = gdict\n",
    "        \n",
    "    def edges(self):\n",
    "        return self.findedges()\n",
    "    \n",
    "# find the distinct list of edges\n",
    "    def findedges(self):\n",
    "        edgename = []\n",
    "        for vrtx in self.gdict:\n",
    "            for nxtvrtx in self.gdict[vrtx]:\n",
    "                if {nxtvrtx, vrtx} not in edgename:\n",
    "                    edgename.append({vrtx, nxtvrtx})\n",
    "        return edgename\n",
    "    \n",
    "# create the dictionary with graph elements\n",
    "graph_elements = {\"a\" : [\"b\",\"c\"],\n",
    "                \"b\" : [\"a\", \"d\"],\n",
    "                \"c\" : [\"a\", \"d\"],\n",
    "                \"d\" : [\"e\"],\n",
    "                \"e\" : [\"d\"]\n",
    "                 }\n",
    "\n",
    "g = graph(graph_elements)\n",
    "\n",
    "print(g.edges())"
   ]
  },
  {
   "cell_type": "code",
   "execution_count": 20,
   "id": "26dd2119",
   "metadata": {},
   "outputs": [
    {
     "name": "stdout",
     "output_type": "stream",
     "text": [
      "[{'u', 't'}, {'w', 't'}, {'u', 'v'}, {'v', 'x'}, {'x', 'w'}, {'z', 'w'}, {'s', 'x'}]\n"
     ]
    }
   ],
   "source": [
    "# Latihan\n",
    "class graph:\n",
    "    def __init__(self,gdict=None):\n",
    "        if gdict is None:\n",
    "            gdict = []\n",
    "        self.gdict = gdict\n",
    "        \n",
    "    def edges(self):\n",
    "        return self.findedges()\n",
    "    \n",
    "# find the distinct list of edges\n",
    "    def findedges(self):\n",
    "        edgename = []\n",
    "        for vrtx in self.gdict:\n",
    "            for nxtvrtx in self.gdict[vrtx]:\n",
    "                if {nxtvrtx, vrtx} not in edgename:\n",
    "                    edgename.append({vrtx, nxtvrtx})\n",
    "        return edgename\n",
    "    \n",
    "# create the dictionary with graph elements\n",
    "graph_elements = {\"t\" : [\"u\", \"w\"],\n",
    "                  \"u\" : [\"t\", \"v\"],\n",
    "                  \"v\" : [\"u\", \"x\"],\n",
    "                  \"w\" : [\"t\", \"x\", \"z\"],\n",
    "                  \"x\" : [\"v\", \"w\", \"s\"],\n",
    "                  \"z\" : [\"w\"],\n",
    "                  \"s\" : [\"x\"]\n",
    "                 }\n",
    "\n",
    "g = graph(graph_elements)\n",
    "\n",
    "print(g.edges())"
   ]
  },
  {
   "cell_type": "code",
   "execution_count": 21,
   "id": "0bfd2a21",
   "metadata": {},
   "outputs": [
    {
     "name": "stdout",
     "output_type": "stream",
     "text": [
      "[{'o', 'r'}, {'r', 'l'}, {'m', 'o'}, {'o', 'p'}, {'m', 'n'}, {'p', 'l'}, {'p', 'n'}]\n"
     ]
    }
   ],
   "source": [
    "#Latihan\n",
    "class graph:\n",
    "    def __init__(self,gdict=None):\n",
    "        if gdict is None:\n",
    "            gdict = []\n",
    "        self.gdict = gdict\n",
    "        \n",
    "    def edges(self):\n",
    "        return self.findedges()\n",
    "    \n",
    "# find the distinct list of edges\n",
    "    def findedges(self):\n",
    "        edgename = []\n",
    "        for vrtx in self.gdict:\n",
    "            for nxtvrtx in self.gdict[vrtx]:\n",
    "                if {nxtvrtx, vrtx} not in edgename:\n",
    "                    edgename.append({vrtx, nxtvrtx})\n",
    "        return edgename\n",
    "    \n",
    "# create the dictionary with graph elements\n",
    "graph_elements = {\"r\" : [\"o\", \"l\"],\n",
    "                  \"o\" : [\"r\", \"m\", \"p\"],\n",
    "                  \"m\" : [\"o\", \"n\"],\n",
    "                  \"l\" : [\"r\", \"p\"],\n",
    "                  \"p\" : [\"o\", \"l\", \"n\"],\n",
    "                  \"n\" : [\"m\", \"p\"]\n",
    "                 }\n",
    "\n",
    "g = graph(graph_elements)\n",
    "\n",
    "print(g.edges())"
   ]
  },
  {
   "cell_type": "code",
   "execution_count": 13,
   "id": "808cc64a",
   "metadata": {},
   "outputs": [
    {
     "name": "stdout",
     "output_type": "stream",
     "text": [
      "['a', 'b', 'c', 'd', 'e', 'f']\n"
     ]
    }
   ],
   "source": [
    "class graph:\n",
    "    \n",
    "    def __init__(self,gdict=None):\n",
    "        if gdict is None:\n",
    "            gdict = {}\n",
    "        self.gdict = gdict\n",
    "        \n",
    "    def getVertices(self):\n",
    "        return list(self.gdict.keys())\n",
    "    \n",
    "# Add the vertex as a key\n",
    "    def addVertex(self, vrtx):\n",
    "        if vrtx not in self.gdict:\n",
    "            self.gdict[vrtx] = []\n",
    "            \n",
    "# Create the dictionary with graph elements\n",
    "graph_elements = { \"a\" : [\"b\", \"c\"],\n",
    "                 \"b\" : [\"a\", \"d\"],\n",
    "                 \"c\" : [\"a\", \"d\"],\n",
    "                 \"d\" : [\"e\"],\n",
    "                 \"e\" : [\"d\"]\n",
    "                 }\n",
    "g = graph(graph_elements)\n",
    "g.addVertex(\"f\")\n",
    "print(g.getVertices())"
   ]
  },
  {
   "cell_type": "code",
   "execution_count": 22,
   "id": "03027739",
   "metadata": {},
   "outputs": [
    {
     "name": "stdout",
     "output_type": "stream",
     "text": [
      "['r', 'o', 'm', 'l', 'p', 'n', 's']\n"
     ]
    }
   ],
   "source": [
    "#Latihan\n",
    "class graph:\n",
    "    \n",
    "    def __init__(self,gdict=None):\n",
    "        if gdict is None:\n",
    "            gdict = {}\n",
    "        self.gdict = gdict\n",
    "        \n",
    "    def getVertices(self):\n",
    "        return list(self.gdict.keys())\n",
    "    \n",
    "# Add the vertex as a key\n",
    "    def addVertex(self, vrtx):\n",
    "        if vrtx not in self.gdict:\n",
    "            self.gdict[vrtx] = []\n",
    "            \n",
    "# Create the dictionary with graph elements\n",
    "graph_elements = {\"r\" : [\"o\", \"l\"],\n",
    "                  \"o\" : [\"r\", \"m\", \"p\"],\n",
    "                  \"m\" : [\"o\", \"n\"],\n",
    "                  \"l\" : [\"r\", \"p\"],\n",
    "                  \"p\" : [\"o\", \"l\", \"n\"],\n",
    "                  \"n\" : [\"m\", \"p\"]\n",
    "                 }\n",
    "g = graph(graph_elements)\n",
    "g.addVertex(\"s\")\n",
    "print(g.getVertices())"
   ]
  },
  {
   "cell_type": "code",
   "execution_count": 24,
   "id": "aad93003",
   "metadata": {},
   "outputs": [
    {
     "name": "stdout",
     "output_type": "stream",
     "text": [
      "[{'b', 'a'}, {'c', 'a'}, {'d', 'b'}, {'d', 'c'}, {'d', 'e'}, {'e', 'a'}]\n"
     ]
    }
   ],
   "source": [
    "class graph:\n",
    "    \n",
    "    def __init__(self,gdict=None):\n",
    "        if gdict is None:\n",
    "            gdict = {}\n",
    "        self.gdict = gdict\n",
    "        \n",
    "    def edges(self):\n",
    "        return self.findedges()\n",
    "# Add the new edge\n",
    "\n",
    "    def AddEdge(self, edge):\n",
    "        edge = set(edge)\n",
    "        (vrtx1, vrtx2) = tuple(edge)\n",
    "        if vrtx1 in self.gdict:\n",
    "            self.gdict[vrtx1].append(vrtx2)\n",
    "        else:\n",
    "            self.gdict[vrtx1] = [vrtx2]\n",
    "            \n",
    "# List the edge names\n",
    "    def findedges(self):\n",
    "        edgename = []\n",
    "        for vrtx in self.gdict:\n",
    "            for nxtvrtx in self.gdict[vrtx]:\n",
    "                if {nxtvrtx, vrtx} not in edgename:\n",
    "                    edgename.append({vrtx, nxtvrtx})\n",
    "        return edgename\n",
    "\n",
    "graph_elements = { \"a\" : [\"b\", \"c\"],\n",
    "                   \"b\" : [\"a\", \"d\"],\n",
    "                   \"c\" : [\"a\", \"d\"],\n",
    "                   \"d\" : [\"e\"],\n",
    "                   \"e\" : [\"d\"]\n",
    "                 }\n",
    "\n",
    "g = graph(graph_elements)\n",
    "g.AddEdge({'a', 'e'})\n",
    "g.AddEdge({'a', 'c'})\n",
    "print(g.edges())"
   ]
  },
  {
   "cell_type": "code",
   "execution_count": null,
   "id": "c354d2af",
   "metadata": {},
   "outputs": [],
   "source": []
  }
 ],
 "metadata": {
  "kernelspec": {
   "display_name": "Python 3",
   "language": "python",
   "name": "python3"
  },
  "language_info": {
   "codemirror_mode": {
    "name": "ipython",
    "version": 3
   },
   "file_extension": ".py",
   "mimetype": "text/x-python",
   "name": "python",
   "nbconvert_exporter": "python",
   "pygments_lexer": "ipython3",
   "version": "3.8.8"
  }
 },
 "nbformat": 4,
 "nbformat_minor": 5
}
